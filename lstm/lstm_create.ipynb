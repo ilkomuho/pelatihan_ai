{
 "cells": [
  {
   "cell_type": "code",
   "execution_count": 2,
   "id": "dc911cbb",
   "metadata": {},
   "outputs": [
    {
     "ename": "NameError",
     "evalue": "name 'timesteps' is not defined",
     "output_type": "error",
     "traceback": [
      "\u001b[1;31m---------------------------------------------------------------------------\u001b[0m",
      "\u001b[1;31mNameError\u001b[0m                                 Traceback (most recent call last)",
      "Cell \u001b[1;32mIn[2], line 6\u001b[0m\n\u001b[0;32m      2\u001b[0m \u001b[38;5;28;01mfrom\u001b[39;00m \u001b[38;5;21;01mtensorflow\u001b[39;00m\u001b[38;5;21;01m.\u001b[39;00m\u001b[38;5;21;01mkeras\u001b[39;00m\u001b[38;5;21;01m.\u001b[39;00m\u001b[38;5;21;01mlayers\u001b[39;00m \u001b[38;5;28;01mimport\u001b[39;00m LSTM, Dense\n\u001b[0;32m      4\u001b[0m \u001b[38;5;66;03m# Membuat model LSTM untuk regresi\u001b[39;00m\n\u001b[0;32m      5\u001b[0m model \u001b[38;5;241m=\u001b[39m Sequential([\n\u001b[1;32m----> 6\u001b[0m     LSTM(\u001b[38;5;241m50\u001b[39m, activation\u001b[38;5;241m=\u001b[39m\u001b[38;5;124m'\u001b[39m\u001b[38;5;124mrelu\u001b[39m\u001b[38;5;124m'\u001b[39m, input_shape\u001b[38;5;241m=\u001b[39m(\u001b[43mtimesteps\u001b[49m, features)),\n\u001b[0;32m      7\u001b[0m     Dense(\u001b[38;5;241m1\u001b[39m, activation\u001b[38;5;241m=\u001b[39m\u001b[38;5;124m'\u001b[39m\u001b[38;5;124mlinear\u001b[39m\u001b[38;5;124m'\u001b[39m)  \u001b[38;5;66;03m# Output 1 nilai kontinu\u001b[39;00m\n\u001b[0;32m      8\u001b[0m ])\n\u001b[0;32m     10\u001b[0m \u001b[38;5;66;03m# Compile model dengan optimizer Adam dan loss MSE\u001b[39;00m\n\u001b[0;32m     11\u001b[0m model\u001b[38;5;241m.\u001b[39mcompile(optimizer\u001b[38;5;241m=\u001b[39m\u001b[38;5;124m'\u001b[39m\u001b[38;5;124madam\u001b[39m\u001b[38;5;124m'\u001b[39m, loss\u001b[38;5;241m=\u001b[39m\u001b[38;5;124m'\u001b[39m\u001b[38;5;124mmse\u001b[39m\u001b[38;5;124m'\u001b[39m)\n",
      "\u001b[1;31mNameError\u001b[0m: name 'timesteps' is not defined"
     ]
    }
   ],
   "source": [
    "import numpy as np\n",
    "import tensorflow as tf\n",
    "from tensorflow.keras.models import Sequential\n",
    "from tensorflow.keras.layers import LSTM, Dense\n",
    "from sklearn.preprocessing import MinMaxScaler\n",
    "from sklearn.model_selection import train_test_split\n",
    "\n",
    "# 1. Generate dataset (data dummy untuk contoh)\n",
    "np.random.seed(42)\n",
    "timesteps = 50  # Panjang urutan input\n",
    "features = 1    # Jumlah fitur per langkah waktu\n",
    "\n",
    "# Contoh data: fungsi sinus dengan sedikit noise\n",
    "x_data = np.linspace(0, 100, 1000)\n",
    "y_data = np.sin(x_data) + 0.1 * np.random.normal(size=x_data.shape)\n",
    "\n",
    "# 2. Preprocessing: Normalisasi data\n",
    "scaler = MinMaxScaler()\n",
    "y_data = scaler.fit_transform(y_data.reshape(-1, 1))\n",
    "\n",
    "# 3. Buat data dengan format LSTM (timesteps, features)\n",
    "def create_sequences(data, timesteps):\n",
    "    x, y = [], []\n",
    "    for i in range(len(data) - timesteps):\n",
    "        x.append(data[i:i+timesteps])  # Urutan input\n",
    "        y.append(data[i+timesteps])   # Target\n",
    "    return np.array(x), np.array(y)\n",
    "\n",
    "X, y = create_sequences(y_data, timesteps)\n",
    "\n",
    "# 4. Split data menjadi train-test\n",
    "X_train, X_test, y_train, y_test = train_test_split(X, y, test_size=0.2, random_state=42)\n",
    "\n",
    "# 5. Bangun model LSTM\n",
    "model = Sequential([\n",
    "    LSTM(50, activation='tanh', input_shape=(timesteps, features)),\n",
    "    Dense(1)  # Output regresi\n",
    "])\n",
    "\n",
    "# 6. Compile model\n",
    "model.compile(optimizer='adam', loss='mse')\n",
    "\n",
    "# 7. Train model\n",
    "history = model.fit(X_train, y_train, validation_data=(X_test, y_test), epochs=20, batch_size=32, verbose=1)\n",
    "\n",
    "# 8. Evaluasi model\n",
    "loss = model.evaluate(X_test, y_test, verbose=0)\n",
    "print(f\"Test Loss: {loss}\")\n",
    "\n",
    "# 9. Prediksi dan visualisasi\n",
    "import matplotlib.pyplot as plt\n",
    "\n",
    "y_pred = model.predict(X_test)\n",
    "\n",
    "# Denormalisasi prediksi\n",
    "y_test_original = scaler.inverse_transform(y_test)\n",
    "y_pred_original = scaler.inverse_transform(y_pred)\n",
    "\n",
    "plt.figure(figsize=(10, 6))\n",
    "plt.plot(y_test_original, label=\"True Data\")\n",
    "plt.plot(y_pred_original, label=\"Predicted Data\")\n",
    "plt.legend()\n",
    "plt.title(\"LSTM Prediction\")\n",
    "plt.show()\n"
   ]
  }
 ],
 "metadata": {
  "kernelspec": {
   "display_name": "Python 3",
   "language": "python",
   "name": "python3"
  },
  "language_info": {
   "codemirror_mode": {
    "name": "ipython",
    "version": 3
   },
   "file_extension": ".py",
   "mimetype": "text/x-python",
   "name": "python",
   "nbconvert_exporter": "python",
   "pygments_lexer": "ipython3",
   "version": "3.12.8"
  }
 },
 "nbformat": 4,
 "nbformat_minor": 5
}
