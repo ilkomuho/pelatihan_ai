{
 "cells": [
  {
   "cell_type": "markdown",
   "id": "d97d26ac",
   "metadata": {},
   "source": [
    "### Variasi Kedalaman Bit pada Gambar\n",
    "\n",
    "Kedalaman bit (bit depth) pada gambar menentukan jumlah warna atau tingkat keabuan yang dapat direpresentasikan oleh setiap piksel dalam gambar. Berikut adalah beberapa variasi kedalaman bit beserta penjelasan dan contohnya:\n",
    "\n",
    "---\n",
    "\n",
    "#### 1. **1-bit Depth** (Monokrom)\n",
    "- **Deskripsi**: Setiap piksel hanya dapat memiliki dua kemungkinan nilai: 0 (hitam) atau 1 (putih).\n",
    "- **Kapasitas Warna**: 2 warna (biasanya hitam dan putih).\n",
    "- **Contoh Penggunaan**: Gambar fax, dokumen teks hitam-putih, atau ikon sederhana.\n",
    "\n",
    "```python\n",
    "image_1bit = np.array([\n",
    "    [0, 1, 1, 0, 0],\n",
    "    [1, 0, 0, 1, 0],\n",
    "    [1, 1, 1, 1, 1],\n",
    "    [0, 1, 0, 1, 0],\n",
    "    [0, 0, 1, 0, 0]\n",
    "], dtype=np.uint8)\n",
    "```\n",
    "\n",
    "---\n",
    "\n",
    "#### 2. **8-bit Depth (Grayscale atau RGB per Channel)**\n",
    "- **Deskripsi**: Setiap piksel memiliki nilai antara 0 hingga 255. Pada gambar grayscale, nilai ini merepresentasikan tingkat keabuan. Dalam gambar RGB, setiap channel (R, G, B) memiliki kedalaman 8-bit.\n",
    "- **Kapasitas Warna**:\n",
    "  - Grayscale: 256 tingkat keabuan.\n",
    "  - RGB: 256 X 256 X 256 = 16.7 juta warna.\n",
    "- **Contoh Penggunaan**: Fotografi digital biasa.\n",
    "\n",
    "```python\n",
    "# Contoh gambar grayscale 8-bit\n",
    "image_8bit_gray = np.array([\n",
    "    [0, 128, 255],\n",
    "    [64, 192, 128],\n",
    "    [255, 0, 64]\n",
    "], dtype=np.uint8)\n",
    "```\n",
    "\n",
    "---\n",
    "\n",
    "#### 3. **16-bit Depth**\n",
    "- **Deskripsi**: Setiap piksel memiliki nilai antara 0 hingga 65,535 untuk setiap channel (R, G, B).\n",
    "- **Kapasitas Warna**: \n",
    "  - Grayscale: 65,536 tingkat keabuan.\n",
    "  - RGB: 65,536 X 65,536 X 65,536 = 281 triliun warna.\n",
    "- **Contoh Penggunaan**: Pengeditan foto profesional, citra medis, atau grafis yang membutuhkan akurasi tinggi.\n",
    "\n",
    "---\n",
    "\n",
    "#### 4. **32-bit Depth**\n",
    "- **Deskripsi**: Biasanya digunakan untuk gambar dengan channel tambahan seperti transparansi (RGBA) atau gambar HDR (High Dynamic Range).\n",
    "- **Kapasitas Warna**: RGB 24-bit + alpha 8-bit = 32-bit.\n",
    "\n",
    "---\n",
    "\n",
    "### Apakah Gambar 1-bit Rendah Kualitasnya?\n",
    "\n",
    "**Ya, gambar dengan kedalaman 1-bit dianggap sangat rendah dalam hal kualitas visual,** karena:\n",
    "1. **Hanya Dua Warna**: Tidak ada gradasi atau variasi warna, sehingga detailnya sangat terbatas.\n",
    "2. **Tidak Cocok untuk Foto**: Hanya berguna untuk pola sederhana seperti ikon, teks, atau barcode.\n",
    "\n",
    "Namun, **gambar 1-bit memiliki keunggulan**:\n",
    "1. **Efisiensi Penyimpanan**: Sangat hemat ruang karena membutuhkan sedikit data.\n",
    "2. **Cepat Diproses**: Ideal untuk aplikasi yang hanya membutuhkan informasi dasar.\n",
    "\n",
    "---\n",
    "\n",
    "### Contoh Perbandingan Kedalaman Bit\n",
    "Berikut adalah visualisasi sederhana menggunakan `matplotlib` untuk membandingkan kedalaman bit:\n",
    "\n",
    "```python\n",
    "import matplotlib.pyplot as plt\n",
    "import numpy as np\n",
    "\n",
    "# Gambar 1-bit (monokrom)\n",
    "image_1bit = np.array([\n",
    "    [0, 1, 1, 0, 0],\n",
    "    [1, 0, 0, 1, 0],\n",
    "    [1, 1, 1, 1, 1],\n",
    "    [0, 1, 0, 1, 0],\n",
    "    [0, 0, 1, 0, 0]\n",
    "], dtype=np.uint8)\n",
    "\n",
    "# Gambar 8-bit (grayscale)\n",
    "image_8bit = np.array([\n",
    "    [0, 128, 255],\n",
    "    [64, 192, 128],\n",
    "    [255, 0, 64]\n",
    "], dtype=np.uint8)\n",
    "\n",
    "# Plot\n",
    "fig, axs = plt.subplots(1, 2, figsize=(10, 5))\n",
    "\n",
    "# Tampilkan 1-bit\n",
    "axs[0].imshow(image_1bit, cmap='gray', vmin=0, vmax=1)\n",
    "axs[0].set_title(\"1-bit Depth (Monokrom)\")\n",
    "\n",
    "# Tampilkan 8-bit\n",
    "axs[1].imshow(image_8bit, cmap='gray', vmin=0, vmax=255)\n",
    "axs[1].set_title(\"8-bit Depth (Grayscale)\")\n",
    "\n",
    "plt.show()\n",
    "```\n",
    "\n",
    "### Hasilnya:\n",
    "1. **1-bit**: Hanya pola hitam-putih terlihat sederhana.\n",
    "2. **8-bit**: Gambar memiliki gradasi abu-abu, memberikan lebih banyak detail visual."
   ]
  },
  {
   "cell_type": "code",
   "execution_count": 1,
   "id": "dc911cbb",
   "metadata": {},
   "outputs": [
    {
     "data": {
      "image/png": "[encoded data removed]",
      "text/plain": [
       "<Figure size 1000x500 with 2 Axes>"
      ]
     },
     "metadata": {},
     "output_type": "display_data"
    }
   ],
   "source": [
    "import matplotlib.pyplot as plt\n",
    "import numpy as np\n",
    "\n",
    "# Gambar 1-bit (monokrom)\n",
    "image_1bit = np.array([\n",
    "    [0, 1, 1, 0, 0],\n",
    "    [1, 0, 0, 1, 0],\n",
    "    [1, 1, 1, 1, 1],\n",
    "    [0, 1, 0, 1, 0],\n",
    "    [0, 0, 1, 0, 0]\n",
    "], dtype=np.uint8)\n",
    "\n",
    "# Gambar 8-bit (grayscale)\n",
    "image_8bit = np.array([\n",
    "    [0, 128, 255],\n",
    "    [64, 192, 128],\n",
    "    [255, 0, 64]\n",
    "], dtype=np.uint8)\n",
    "\n",
    "# Plot\n",
    "_, axs = plt.subplots(1, 2, figsize=(10, 5))\n",
    "\n",
    "# Tampilkan 1-bit\n",
    "axs[0].imshow(image_1bit, cmap='gray', vmin=0, vmax=1)\n",
    "axs[0].set_title(\"1-bit Depth (Monokrom)\")\n",
    "\n",
    "# Tampilkan 8-bit\n",
    "axs[1].imshow(image_8bit, cmap='gray', vmin=0, vmax=255)\n",
    "axs[1].set_title(\"8-bit Depth (Grayscale)\")\n",
    "\n",
    "\n",
    "plt.show()\n"
   ]
  },
  {
   "cell_type": "code",
   "execution_count": 2,
   "id": "9419538b-0e24-4c09-a8b5-7ca29be1adab",
   "metadata": {},
   "outputs": [
    {
     "data": {
      "image/png": "[encoded data removed]",
      "text/plain": [
       "<Figure size 640x480 with 1 Axes>"
      ]
     },
     "metadata": {},
     "output_type": "display_data"
    }
   ],
   "source": [
    "import numpy as np\n",
    "import matplotlib.pyplot as plt\n",
    "\n",
    "# Matriks angka \"1\"\n",
    "image_1 = np.array([\n",
    "    [0, 0, 1, 0, 0],\n",
    "    [0, 1, 1, 0, 0],\n",
    "    [0, 0, 1, 0, 0],\n",
    "    [0, 0, 1, 0, 0],\n",
    "    [0, 0, 1, 0, 0],\n",
    "    [0, 0, 1, 0, 0],\n",
    "    [1, 1, 1, 1, 1]\n",
    "], dtype=np.uint8)\n",
    "\n",
    "# feature = corner, edge, texture\n",
    "\n",
    "# Tampilkan gambar\n",
    "plt.imshow(image_1, cmap='gray', vmin=0, vmax=1)\n",
    "plt.title(\"Angka '1' dalam Matriks 1-Bit\")\n",
    "plt.axis('off')\n",
    "plt.show()\n"
   ]
  },
  {
   "cell_type": "code",
   "execution_count": 8,
   "id": "b2e578e0",
   "metadata": {},
   "outputs": [
    {
     "data": {
      "image/png": "[encoded data removed]",
      "text/plain": [
       "<Figure size 640x480 with 1 Axes>"
      ]
     },
     "metadata": {},
     "output_type": "display_data"
    }
   ],
   "source": [
    "# Matriks RGB (3D array), contoh ukuran 3x3\n",
    "image_rgb = np.array([\n",
    "    [[255, 0, 0], [0, 255, 100], [0, 0, 255]],  # Baris 1: merah, hijau, biru\n",
    "    [[255, 255, 0], [0, 255, 255], [255, 0, 255]],  # Baris 2: kuning, cyan, magenta\n",
    "    [[128, 128, 128], [64, 64, 64], [0, 0, 0]]  # Baris 3: abu-abu terang, gelap, hitam\n",
    "], dtype=np.uint8)\n",
    "\n",
    "\n",
    "# Tampilkan gambar\n",
    "plt.imshow(image_rgb)\n",
    "plt.title(\"Contoh Gambar RGB 8-bit\")\n",
    "plt.axis('off')\n",
    "plt.show()\n"
   ]
  }
 ],
 "metadata": {
  "kernelspec": {
   "display_name": "Python 3",
   "language": "python",
   "name": "python3"
  },
  "language_info": {
   "codemirror_mode": {
    "name": "ipython",
    "version": 3
   },
   "file_extension": ".py",
   "mimetype": "text/x-python",
   "name": "python",
   "nbconvert_exporter": "python",
   "pygments_lexer": "ipython3",
   "version": "3.11.7"
  }
 },
 "nbformat": 4,
 "nbformat_minor": 5
}
