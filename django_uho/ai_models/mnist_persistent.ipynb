{
 "cells": [
  {
   "cell_type": "code",
   "execution_count": 33,
   "id": "82082b66",
   "metadata": {},
   "outputs": [
    {
     "name": "stdout",
     "output_type": "stream",
     "text": [
      "(2, 3)\n",
      "(2, 2, 2, 2)\n"
     ]
    }
   ],
   "source": [
    "import numpy as np\n",
    "sample = np.array([[1,1,3],[1,1,2]])\n",
    "print(sample.shape)\n",
    "sample2 = np.array([[[[1,1],[1,1]],[[1,3],[2,1]]],[[[1,1],[1,1]],[[1,3],[3,1]]]])\n",
    "print(sample2.shape)"
   ]
  },
  {
   "cell_type": "markdown",
   "id": "1fc56122",
   "metadata": {},
   "source": [
    "Berikut adalah penjelasan konsep dalam **Convolutional Neural Networks (CNN)** dengan bahasa yang mudah dipahami:\n",
    "\n",
    "---\n",
    "\n",
    "### **1. Neuron**\n",
    "- Neuron adalah unit komputasi kecil di dalam jaringan saraf. \n",
    "- Setiap neuron menerima input (misalnya, angka dari gambar), memprosesnya menggunakan operasi matematika, lalu menghasilkan output. \n",
    "- Dalam diagram, neuron sering digambarkan sebagai **lingkaran** kecil.\n",
    "\n",
    "---\n",
    "\n",
    "### **2. Input Layer**\n",
    "- Lapisan pertama dalam CNN disebut **input layer**.\n",
    "- Di sini, gambar yang sudah diproses sebelumnya (preprocessed) dimasukkan ke jaringan.\n",
    "- Setiap piksel dalam gambar menjadi **nilai input** untuk jaringan.\n",
    "\n",
    "---\n",
    "\n",
    "### **3. Convolutional Layers (Lapisan Konvolusi)**\n",
    "Lapisan ini adalah inti dari CNN dan bertugas mengenali pola dalam gambar.\n",
    "\n",
    "#### **Bagaimana Konvolusi Bekerja:**\n",
    "- **Filter (Kernel):** Sebuah kotak kecil (matriks) berisi angka-angka (berat/filter).\n",
    "- **Proses Sliding:** Filter digeser (stride) di atas gambar, satu langkah dalam satu waktu.\n",
    "- **Dot Product:** Di setiap posisi, gambar dan filter dihitung bersama menggunakan operasi **perkalian titik (dot product)**.\n",
    "- Hasilnya adalah peta fitur (**feature map**) yang menunjukkan di mana pola tertentu (misalnya tepi, sudut) ditemukan di gambar.\n",
    "\n",
    "#### **Terminologi:**\n",
    "- **Kernel (Filter):** Matriks kecil yang dipakai untuk mendeteksi pola tertentu.\n",
    "- **Stride:** Jarak geser filter di gambar (misalnya, geser 1 piksel per langkah).\n",
    "- **Padding:** Menambahkan \"tepi\" berupa angka nol di sekitar gambar agar ukuran output tetap terkontrol.\n",
    "\n",
    "#### **Fungsi:**\n",
    "Lapisan ini membantu mengekstrak **fitur sederhana** seperti tepi dan tekstur pada gambar.\n",
    "\n",
    "---\n",
    "\n",
    "### **4. ReLU Activation**\n",
    "- **ReLU (Rectified Linear Unit)** adalah fungsi yang membuat hasil konvolusi menjadi **non-linear**.\n",
    "- **Cara Kerja:** Mengubah semua nilai negatif menjadi nol.\n",
    "  - Contoh: Input `-3` menjadi `0`, input `4` tetap `4`.\n",
    "- Non-linearitas penting agar jaringan bisa mengenali pola yang lebih kompleks.\n",
    "\n",
    "---\n",
    "\n",
    "### **5. Pooling Layers**\n",
    "- Lapisan ini bertugas **mengecilkan ukuran data** tanpa kehilangan informasi penting.\n",
    "- Misalnya, **Max Pooling** hanya mengambil nilai terbesar dalam kotak kecil dari peta fitur.\n",
    "- **Fungsi:**\n",
    "  - Mengurangi ukuran data untuk mempercepat komputasi.\n",
    "  - Membantu mencegah model \"overfitting\" (terlalu cocok dengan data pelatihan).\n",
    "\n",
    "---\n",
    "\n",
    "### **6. Fully Connected Layers**\n",
    "- Setelah fitur penting dari gambar diekstrak oleh lapisan konvolusi dan pooling, fitur ini diberikan ke lapisan fully connected.\n",
    "- **Tugas:** Lapisan ini melakukan klasifikasi, misalnya:\n",
    "  - Jika gambar adalah kucing, anjing, atau burung, lapisan ini menentukan kelasnya.\n",
    "\n",
    "---\n",
    "\n",
    "### **Ringkasan Sederhana CNN:**\n",
    "1. **Input Layer:** Gambar masuk.\n",
    "2. **Convolutional Layers:** Mendeteksi pola seperti tepi atau sudut.\n",
    "3. **ReLU Activation:** Menambahkan non-linearitas.\n",
    "4. **Pooling Layers:** Mengecilkan ukuran data.\n",
    "5. **Fully Connected Layers:** Mengambil keputusan klasifikasi.\n",
    "\n",
    "CNN bekerja seperti otak manusia, mengenali bagian kecil dulu (tepi dan tekstur), lalu menggabungkannya untuk memahami keseluruhan objek (misalnya wajah atau hewan). "
   ]
  },
  {
   "cell_type": "code",
   "execution_count": null,
   "id": "04e6f807-0338-4d5c-bb5d-81cf96021b94",
   "metadata": {},
   "outputs": [
    {
     "name": "stderr",
     "output_type": "stream",
     "text": [
      "WARNING:absl:Compiled the loaded model, but the compiled metrics have yet to be built. `model.compile_metrics` will be empty until you train or evaluate the model.\n"
     ]
    }
   ],
   "source": [
    "from tensorflow.keras.models import load_model\n",
    "\n",
    "from PIL import Image\n",
    "\n",
    "model = load_model('./mnist_model.h5')\n",
    "\n",
    "def predict_digit(image_path):\n",
    "    # Load and preprocess the image\n",
    "    img = Image.open(image_path).convert('L').resize((28, 28))\n",
    "    img_array = np.array(img).reshape(1, 28, 28, 1) / 255.0\n",
    "    \n",
    "    # Predict probabilities for each class\n",
    "    prediction = model.predict(img_array)\n",
    "    \n",
    "    # Get the predicted digit and confidence score\n",
    "    predicted_digit = np.argmax(prediction)\n",
    "    confidence_score = np.max(prediction)  # Highest probability\n",
    "    \n",
    "    return predicted_digit, confidence_score\n"
   ]
  },
  {
   "cell_type": "code",
   "execution_count": 5,
   "id": "86c5d764",
   "metadata": {},
   "outputs": [
    {
     "name": "stdout",
     "output_type": "stream",
     "text": [
      "\u001b[1m1/1\u001b[0m \u001b[32m━━━━━━━━━━━━━━━━━━━━\u001b[0m\u001b[37m\u001b[0m \u001b[1m0s\u001b[0m 66ms/step\n",
      "Predicted Digit: 3\n",
      "Confidence Score: 0.74\n"
     ]
    }
   ],
   "source": [
    "# Example usage\n",
    "image_path = \"3-sample.png\"\n",
    "digit, confidence = predict_digit(image_path)\n",
    "\n",
    "print(f\"Predicted Digit: {digit}\")\n",
    "print(f\"Confidence Score: {confidence:.2f}\")"
   ]
  },
  {
   "cell_type": "code",
   "execution_count": 6,
   "id": "d90fe33d",
   "metadata": {},
   "outputs": [
    {
     "name": "stdout",
     "output_type": "stream",
     "text": [
      "<PIL.Image.Image image mode=L size=28x28 at 0x14D33028590>\n"
     ]
    }
   ],
   "source": [
    "image_path = \"3-sample.png\"\n",
    "img = Image.open(image_path).convert('L').resize((28, 28))\n",
    "print(img)"
   ]
  },
  {
   "cell_type": "code",
   "execution_count": 36,
   "id": "126ab614",
   "metadata": {},
   "outputs": [
    {
     "name": "stdout",
     "output_type": "stream",
     "text": [
      "(1, 28, 28, 1)\n"
     ]
    }
   ],
   "source": [
    "# img_array has type numpy.ndarray\n",
    "img_array = np.array(img).reshape(1, 28, 28, 1) / 255.0\n",
    "print(img_array.shape)\n",
    "# [[[[1.        ]\n",
    "#    [1.        ]\n",
    "#    ......\n",
    "#    [1.        ]\n",
    "#    [1.        ]]]]"
   ]
  },
  {
   "cell_type": "markdown",
   "id": "cdb6c3fd",
   "metadata": {},
   "source": [
    "Mari kita bahas setiap bagian dari pertanyaan Anda secara mendetail:\n",
    "\n",
    "---\n",
    "\n",
    "### **Apa arti array dengan shape `(1, 28, 28, 1)`?**\n",
    "- **Shape `(1, 28, 28, 1)` memiliki arti:**\n",
    "  1. **1**: Dimensi pertama adalah ukuran batch (jumlah gambar). Dalam hal ini, hanya ada satu gambar yang diproses dalam satu waktu.\n",
    "  2. **28**: Dimensi kedua adalah tinggi gambar (28 piksel).\n",
    "  3. **28**: Dimensi ketiga adalah lebar gambar (28 piksel).\n",
    "  4. **1**: Dimensi keempat adalah jumlah channel (saluran warna). Nilai 1 berarti gambar dalam **grayscale** (hitam putih), sedangkan untuk gambar berwarna (RGB), jumlah channel biasanya 3.\n",
    "\n",
    "---\n",
    "\n",
    "### **Mengapa `img_array` perlu di-reshape menjadi `(1, 28, 28, 1)`?**\n",
    "1. **Kompatibilitas dengan Model:**\n",
    "   - Model deep learning seperti yang dibuat dengan framework seperti TensorFlow atau Keras **mengharapkan input dalam bentuk tensor dengan dimensi tertentu.**\n",
    "   - Model sering didesain untuk menerima input batch, sehingga dimensi pertama adalah ukuran batch.\n",
    "   - Input ke model Anda di sini berupa gambar 28x28 piksel dengan 1 channel, tetapi perlu **dibungkus dalam batch (meskipun hanya satu gambar)**, sehingga menjadi `(1, 28, 28, 1)`.\n",
    "\n",
    "2. **Input Format yang Konsisten:**\n",
    "   - Model tidak peduli apakah Anda memberikan satu gambar atau banyak gambar sekaligus; ia memproses data dalam bentuk batch.\n",
    "   - Oleh karena itu, Anda perlu menambahkan dimensi batch (`1`) agar bentuknya konsisten dengan desain model.\n",
    "\n",
    "3. **Saluran Warna:**\n",
    "   - Untuk gambar **grayscale**, saluran warna eksplisit (`1`) membantu model membedakan input ini dari input gambar berwarna (RGB, yang memiliki 3 channel).\n",
    "\n",
    "---\n",
    "\n",
    "### **Mengapa gambar perlu dibagi 255?**\n",
    "1. **Normalisasi Data:**\n",
    "   - **Piksel gambar biasanya memiliki nilai antara 0 dan 255** (dalam 8-bit format). Membagi setiap piksel dengan 255.0 akan menormalisasi nilainya ke dalam rentang **[0, 1]**.\n",
    "   - Normalisasi membantu model belajar lebih cepat dan stabil karena:\n",
    "     - Mencegah nilai besar mendominasi dalam perhitungan (gradien menjadi lebih stabil).\n",
    "     - Nilai dalam rentang kecil (seperti [0, 1]) cocok untuk aktivasi yang digunakan dalam model (misalnya, ReLU atau sigmoid).\n",
    "\n",
    "2. **Mengurangi Skewness:**\n",
    "   - Model lebih efektif saat data input memiliki distribusi nilai yang seragam, dan normalisasi membantu mencapai ini.\n",
    "\n",
    "---\n",
    "\n",
    "### **Mengapa Hal Ini Penting?**\n",
    "Jika Anda tidak melakukan **reshape** atau **normalisasi**, kemungkinan besar model akan gagal menerima data atau memberikan prediksi yang buruk karena input tidak sesuai dengan format yang diharapkan model."
   ]
  },
  {
   "cell_type": "code",
   "execution_count": 32,
   "id": "591a7094",
   "metadata": {},
   "outputs": [
    {
     "name": "stdout",
     "output_type": "stream",
     "text": [
      "\u001b[1m1/1\u001b[0m \u001b[32m━━━━━━━━━━━━━━━━━━━━\u001b[0m\u001b[37m\u001b[0m \u001b[1m0s\u001b[0m 31ms/step\n",
      "(1, 10)\n",
      "[[5.6447268e-17 2.9630874e-11 3.0100841e-02 7.4258590e-01 0.0000000e+00\n",
      "  2.2731330e-01 3.3445674e-10 3.6655737e-11 3.2307848e-13 1.6409429e-17]]\n"
     ]
    }
   ],
   "source": [
    "# Predict probabilities for each class\n",
    "prediction = model.predict(img_array)\n",
    "print(prediction.shape)\n",
    "print(prediction)\n",
    "\n",
    "# predicted digit diambil dari  index pada array ke berapa yang memiliki nilai tertinggi\n",
    "# np.argmax(prediction)  membantu dalam mencari index tersebut\n",
    "# confidence score merupakan seberapa besar probabilitas tebakan dari prediksi image\n",
    "# confidence_score diambil dari nilai maximum prediction. e.g. np.max(prediction)"
   ]
  },
  {
   "cell_type": "markdown",
   "id": "99fe0621",
   "metadata": {},
   "source": [
    "1. **Output dari Neural Network sebagai Probabilitas:**\n",
    "   - Biasanya, **output dari sebuah neural network dalam konteks klasifikasi** adalah probabilitas untuk setiap kelas.\n",
    "   - Probabilitas ini seringkali didapatkan melalui fungsi aktivasi pada layer output, seperti **Softmax** untuk klasifikasi multi-kelas, atau **Sigmoid** untuk klasifikasi biner.\n",
    "\n",
    "2. **Probabilitas Disebut Apa?**\n",
    "   - Probabilitas ini sering disebut sebagai **confidence scores** atau **predicted probabilities**. \n",
    "   - Nilai-nilai tersebut mewakili keyakinan model terhadap masing-masing kelas.\n",
    "\n",
    "3. **Peran Fungsi Aktivasi:**\n",
    "   - Fungsi aktivasi seperti **Softmax** digunakan untuk:\n",
    "     - Mengubah nilai mentah dari output layer (logit) menjadi distribusi probabilitas (rentang 0-1) yang menjumlahkan hingga 1.\n",
    "     - Fungsi ini membuat output lebih interpretable, khususnya untuk klasifikasi.\n",
    "\n",
    "### **Mengapa Dibutuhkan Beberapa Layer untuk Mencapai Aktivasi?**\n",
    "1. **Kompleksitas Representasi Data:**\n",
    "   - Data mentah (misalnya gambar) memiliki dimensi tinggi dan pola non-linear. Layer bertumpuk (hidden layers) membantu neural network belajar representasi yang semakin abstrak dan kompleks.\n",
    "   - Layer awal mendeteksi fitur sederhana (tepi, warna, tekstur), sedangkan layer lebih dalam mendeteksi pola yang lebih kompleks (objek, bagian objek, dll.).\n",
    "\n",
    "2. **Non-linearitas:**\n",
    "   - Fungsi aktivasi pada hidden layer (misalnya, ReLU, tanh) menambahkan **non-linearitas** yang diperlukan untuk belajar pola kompleks.\n",
    "   - Tanpa non-linearitas, model hanya akan mampu mempelajari fungsi linear, yang tidak cukup untuk banyak tugas seperti klasifikasi gambar.\n",
    "\n",
    "3. **Mapping ke Output:**\n",
    "   - Layer terakhir (output layer) bertugas mengubah representasi internal menjadi output yang relevan, seperti probabilitas untuk setiap kelas menggunakan fungsi aktivasi seperti Softmax.\n"
   ]
  }
 ],
 "metadata": {
  "kernelspec": {
   "display_name": "Python 3",
   "language": "python",
   "name": "python3"
  },
  "language_info": {
   "codemirror_mode": {
    "name": "ipython",
    "version": 3
   },
   "file_extension": ".py",
   "mimetype": "text/x-python",
   "name": "python",
   "nbconvert_exporter": "python",
   "pygments_lexer": "ipython3",
   "version": "3.11.7"
  }
 },
 "nbformat": 4,
 "nbformat_minor": 5
}
