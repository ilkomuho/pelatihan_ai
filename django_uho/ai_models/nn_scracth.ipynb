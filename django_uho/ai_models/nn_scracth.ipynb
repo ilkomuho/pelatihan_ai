{
 "cells": [
  {
   "cell_type": "markdown",
   "id": "08a029d2",
   "metadata": {},
   "source": [
    "Berikut adalah implementasi sederhana dari jaringan saraf tiruan (neural network) menggunakan `numpy` untuk mengenali angka dari gambar yang diinputkan sebagai array. Neural network ini dirancang untuk memproses satu input (misalnya, gambar angka \"1\") dan menghasilkan prediksi. Model ini mencakup satu lapisan tersembunyi dan lapisan output.\n",
    "\n",
    "### Langkah-langkah Implementasi:\n",
    "1. **Input Data**: Gambar angka \"1\" sebagai array.\n",
    "2. **Forward Propagation**: Memproses data input melalui lapisan tersembunyi dan lapisan output.\n",
    "3. **Loss Calculation**: Menghitung error berdasarkan hasil prediksi.\n",
    "4. **Backpropagation**: Mengupdate bobot berdasarkan error.\n",
    "5. **Prediksi Akhir**: Menunjukkan hasil prediksi.\n",
    "\n",
    "\n",
    "### Penjelasan:\n",
    "1. **Input Data**: Array `image_one` mewakili angka \"1\" dalam grid 3x3.\n",
    "2. **Forward Propagation**: Input diteruskan melalui jaringan.\n",
    "3. **Backpropagation**: Gradien dihitung dan bobot diperbarui untuk meminimalkan error.\n",
    "4. **Prediksi**: Hasil akhirnya adalah indeks dari elemen tertinggi di output, mewakili digit yang dikenali.\n",
    "\n",
    "Kode ini akan melatih jaringan untuk memprediksi gambar angka \"1\". Anda dapat memperluasnya untuk dataset lebih besar seperti MNIST."
   ]
  },
  {
   "cell_type": "code",
   "execution_count": null,
   "id": "d46601ee",
   "metadata": {},
   "outputs": [
    {
     "name": "stdout",
     "output_type": "stream",
     "text": [
      "[[0.37454012 0.95071431 0.73199394 0.59865848 0.15601864]\n",
      " [0.15599452 0.05808361 0.86617615 0.60111501 0.70807258]\n",
      " [0.02058449 0.96990985 0.83244264 0.21233911 0.18182497]\n",
      " [0.18340451 0.30424224 0.52475643 0.43194502 0.29122914]\n",
      " [0.61185289 0.13949386 0.29214465 0.36636184 0.45606998]\n",
      " [0.78517596 0.19967378 0.51423444 0.59241457 0.04645041]\n",
      " [0.60754485 0.17052412 0.06505159 0.94888554 0.96563203]\n",
      " [0.80839735 0.30461377 0.09767211 0.68423303 0.44015249]\n",
      " [0.12203823 0.49517691 0.03438852 0.9093204  0.25877998]]\n",
      "[[0.66252228 0.31171108 0.52006802 0.54671028 0.18485446 0.96958463\n",
      "  0.77513282 0.93949894 0.89482735 0.59789998]\n",
      " [0.92187424 0.0884925  0.19598286 0.04522729 0.32533033 0.38867729\n",
      "  0.27134903 0.82873751 0.35675333 0.28093451]\n",
      " [0.54269608 0.14092422 0.80219698 0.07455064 0.98688694 0.77224477\n",
      "  0.19871568 0.00552212 0.81546143 0.70685734]\n",
      " [0.72900717 0.77127035 0.07404465 0.35846573 0.11586906 0.86310343\n",
      "  0.62329813 0.33089802 0.06355835 0.31098232]\n",
      " [0.32518332 0.72960618 0.63755747 0.88721274 0.47221493 0.11959425\n",
      "  0.71324479 0.76078505 0.5612772  0.77096718]]\n"
     ]
    }
   ],
   "source": [
    "import numpy as np\n",
    "\n",
    "# Fungsi aktivasi sigmoid dan turunan sigmoid\n",
    "def sigmoid(x):\n",
    "    return 1 / (1 + np.exp(-x))\n",
    "\n",
    "def sigmoid_derivative(x):\n",
    "    return x * (1 - x)\n",
    "\n",
    "# Input data: contoh gambar angka \"1\" dalam array 3x3\n",
    "# (1 adalah bagian dari angka, 0 adalah latar belakang)\n",
    "image_one = np.array([\n",
    "    [0, 1, 0],\n",
    "    [0, 1, 0],\n",
    "    [0, 1, 0]\n",
    "]).reshape(9, 1)  # Mengubah input menjadi vektor 9x1\n",
    "\n",
    "# Label target untuk angka \"1\" (bisa berupa one-hot encoding, misalnya [0,1,0,0,0,0,0,0,0,0])\n",
    "target = np.array([[0], [1], [0], [0], [0], [0], [0], [0], [0], [0]])\n",
    "\n",
    "# Inisialisasi bobot secara acak\n",
    "np.random.seed(42)\n",
    "# Bobot untuk lapisan tersembunyi (9 input -> 5 neuron)\n",
    "# 9 input means array dengan length=9\n",
    "# 5 neuron means length array yang ada ditiap inputnya\n",
    "\n",
    "weights_hidden = np.random.rand(9, 5)  \n",
    "# 10 neuron adalah array dengan length = 10\n",
    "weights_output = np.random.rand(5, 10)  \n",
    "# Bobot untuk lapisan output (5 neuron -> 10 output)\n",
    "print(weights_hidden)\n",
    "print(weights_output)"
   ]
  },
  {
   "cell_type": "code",
   "execution_count": null,
   "id": "994a78df",
   "metadata": {},
   "outputs": [],
   "source": [
    "# Hiperparameter\n",
    "learning_rate = 0.1\n",
    "epochs = 10000\n",
    "\n",
    "# Training Neural Network\n",
    "for epoch in range(epochs):\n",
    "    # Forward propagation\n",
    "    hidden_layer_input = np.dot(image_one.T, weights_hidden)  # (1x9) x (9x5) -> (1x5)\n",
    "    hidden_layer_output = sigmoid(hidden_layer_input)         # Aktivasi sigmoid\n",
    "    \n",
    "    output_layer_input = np.dot(hidden_layer_output, weights_output)  # (1x5) x (5x10) -> (1x10)\n",
    "    output = sigmoid(output_layer_input)                              # Aktivasi sigmoid\n",
    "    \n",
    "    # Hitung error\n",
    "    error = target.T - output  # Target aktual vs prediksi\n",
    "    \n",
    "    # Backpropagation\n",
    "    d_output = error * sigmoid_derivative(output)\n",
    "    error_hidden_layer = d_output.dot(weights_output.T)  # (1x10) x (10x5)\n",
    "    d_hidden_layer = error_hidden_layer * sigmoid_derivative(hidden_layer_output)\n",
    "    \n",
    "    # Update bobot\n",
    "    weights_output += hidden_layer_output.T.dot(d_output) * learning_rate\n",
    "    weights_hidden += image_one.dot(d_hidden_layer) * learning_rate\n",
    "\n",
    "    if epoch % 1000 == 0:\n",
    "        loss = np.mean(np.abs(error))\n",
    "        print(f\"Epoch {epoch}, Loss: {loss:.4f}\")\n",
    "\n",
    "# Prediksi\n",
    "predicted_output = output\n",
    "print(\"Hasil prediksi: \", np.argmax(predicted_output))"
   ]
  }
 ],
 "metadata": {
  "kernelspec": {
   "display_name": "Python 3",
   "language": "python",
   "name": "python3"
  },
  "language_info": {
   "codemirror_mode": {
    "name": "ipython",
    "version": 3
   },
   "file_extension": ".py",
   "mimetype": "text/x-python",
   "name": "python",
   "nbconvert_exporter": "python",
   "pygments_lexer": "ipython3",
   "version": "3.11.7"
  }
 },
 "nbformat": 4,
 "nbformat_minor": 5
}
