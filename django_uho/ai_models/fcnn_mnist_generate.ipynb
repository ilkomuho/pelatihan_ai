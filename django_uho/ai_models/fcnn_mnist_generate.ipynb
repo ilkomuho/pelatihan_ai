{
 "cells": [
  {
   "cell_type": "code",
   "execution_count": 2,
   "id": "04e6f807-0338-4d5c-bb5d-81cf96021b94",
   "metadata": {},
   "outputs": [],
   "source": [
    "import tensorflow as tf\n",
    "from tensorflow.keras.models import Sequential\n",
    "from tensorflow.keras.layers import Dense, Flatten\n",
    "from tensorflow.keras.datasets import mnist"
   ]
  },
  {
   "cell_type": "code",
   "execution_count": 3,
   "id": "9419538b-0e24-4c09-a8b5-7ca29be1adab",
   "metadata": {},
   "outputs": [
    {
     "name": "stdout",
     "output_type": "stream",
     "text": [
      "[[[0. 0. 0. ... 0. 0. 0.]\n",
      "  [0. 0. 0. ... 0. 0. 0.]\n",
      "  [0. 0. 0. ... 0. 0. 0.]\n",
      "  ...\n",
      "  [0. 0. 0. ... 0. 0. 0.]\n",
      "  [0. 0. 0. ... 0. 0. 0.]\n",
      "  [0. 0. 0. ... 0. 0. 0.]]\n",
      "\n",
      " [[0. 0. 0. ... 0. 0. 0.]\n",
      "  [0. 0. 0. ... 0. 0. 0.]\n",
      "  [0. 0. 0. ... 0. 0. 0.]\n",
      "  ...\n",
      "  [0. 0. 0. ... 0. 0. 0.]\n",
      "  [0. 0. 0. ... 0. 0. 0.]\n",
      "  [0. 0. 0. ... 0. 0. 0.]]\n",
      "\n",
      " [[0. 0. 0. ... 0. 0. 0.]\n",
      "  [0. 0. 0. ... 0. 0. 0.]\n",
      "  [0. 0. 0. ... 0. 0. 0.]\n",
      "  ...\n",
      "  [0. 0. 0. ... 0. 0. 0.]\n",
      "  [0. 0. 0. ... 0. 0. 0.]\n",
      "  [0. 0. 0. ... 0. 0. 0.]]\n",
      "\n",
      " ...\n",
      "\n",
      " [[0. 0. 0. ... 0. 0. 0.]\n",
      "  [0. 0. 0. ... 0. 0. 0.]\n",
      "  [0. 0. 0. ... 0. 0. 0.]\n",
      "  ...\n",
      "  [0. 0. 0. ... 0. 0. 0.]\n",
      "  [0. 0. 0. ... 0. 0. 0.]\n",
      "  [0. 0. 0. ... 0. 0. 0.]]\n",
      "\n",
      " [[0. 0. 0. ... 0. 0. 0.]\n",
      "  [0. 0. 0. ... 0. 0. 0.]\n",
      "  [0. 0. 0. ... 0. 0. 0.]\n",
      "  ...\n",
      "  [0. 0. 0. ... 0. 0. 0.]\n",
      "  [0. 0. 0. ... 0. 0. 0.]\n",
      "  [0. 0. 0. ... 0. 0. 0.]]\n",
      "\n",
      " [[0. 0. 0. ... 0. 0. 0.]\n",
      "  [0. 0. 0. ... 0. 0. 0.]\n",
      "  [0. 0. 0. ... 0. 0. 0.]\n",
      "  ...\n",
      "  [0. 0. 0. ... 0. 0. 0.]\n",
      "  [0. 0. 0. ... 0. 0. 0.]\n",
      "  [0. 0. 0. ... 0. 0. 0.]]]\n"
     ]
    }
   ],
   "source": [
    "# Load MNIST dataset\n",
    "(x_train, y_train), (x_test, y_test) = mnist.load_data()\n",
    "\n",
    "# Normalize pixel values to range [0, 1]\n",
    "x_train = x_train / 255.0\n",
    "x_test = x_test / 255.0\n",
    "\n",
    "print(x_train)"
   ]
  },
  {
   "cell_type": "code",
   "execution_count": 4,
   "id": "4039c2fe",
   "metadata": {},
   "outputs": [
    {
     "name": "stdout",
     "output_type": "stream",
     "text": [
      "[[[0. 0. 0. ... 0. 0. 0.]\n",
      "  [0. 0. 0. ... 0. 0. 0.]\n",
      "  [0. 0. 0. ... 0. 0. 0.]\n",
      "  ...\n",
      "  [0. 0. 0. ... 0. 0. 0.]\n",
      "  [0. 0. 0. ... 0. 0. 0.]\n",
      "  [0. 0. 0. ... 0. 0. 0.]]\n",
      "\n",
      " [[0. 0. 0. ... 0. 0. 0.]\n",
      "  [0. 0. 0. ... 0. 0. 0.]\n",
      "  [0. 0. 0. ... 0. 0. 0.]\n",
      "  ...\n",
      "  [0. 0. 0. ... 0. 0. 0.]\n",
      "  [0. 0. 0. ... 0. 0. 0.]\n",
      "  [0. 0. 0. ... 0. 0. 0.]]\n",
      "\n",
      " [[0. 0. 0. ... 0. 0. 0.]\n",
      "  [0. 0. 0. ... 0. 0. 0.]\n",
      "  [0. 0. 0. ... 0. 0. 0.]\n",
      "  ...\n",
      "  [0. 0. 0. ... 0. 0. 0.]\n",
      "  [0. 0. 0. ... 0. 0. 0.]\n",
      "  [0. 0. 0. ... 0. 0. 0.]]\n",
      "\n",
      " ...\n",
      "\n",
      " [[0. 0. 0. ... 0. 0. 0.]\n",
      "  [0. 0. 0. ... 0. 0. 0.]\n",
      "  [0. 0. 0. ... 0. 0. 0.]\n",
      "  ...\n",
      "  [0. 0. 0. ... 0. 0. 0.]\n",
      "  [0. 0. 0. ... 0. 0. 0.]\n",
      "  [0. 0. 0. ... 0. 0. 0.]]\n",
      "\n",
      " [[0. 0. 0. ... 0. 0. 0.]\n",
      "  [0. 0. 0. ... 0. 0. 0.]\n",
      "  [0. 0. 0. ... 0. 0. 0.]\n",
      "  ...\n",
      "  [0. 0. 0. ... 0. 0. 0.]\n",
      "  [0. 0. 0. ... 0. 0. 0.]\n",
      "  [0. 0. 0. ... 0. 0. 0.]]\n",
      "\n",
      " [[0. 0. 0. ... 0. 0. 0.]\n",
      "  [0. 0. 0. ... 0. 0. 0.]\n",
      "  [0. 0. 0. ... 0. 0. 0.]\n",
      "  ...\n",
      "  [0. 0. 0. ... 0. 0. 0.]\n",
      "  [0. 0. 0. ... 0. 0. 0.]\n",
      "  [0. 0. 0. ... 0. 0. 0.]]]\n"
     ]
    }
   ],
   "source": [
    "print(x_train)"
   ]
  },
  {
   "cell_type": "code",
   "execution_count": 5,
   "id": "f435aa37",
   "metadata": {},
   "outputs": [
    {
     "name": "stderr",
     "output_type": "stream",
     "text": [
      "c:\\Users\\Lenovo\\AppData\\Local\\Programs\\Python\\Python311\\Lib\\site-packages\\keras\\src\\layers\\reshaping\\flatten.py:37: UserWarning: Do not pass an `input_shape`/`input_dim` argument to a layer. When using Sequential models, prefer using an `Input(shape)` object as the first layer in the model instead.\n",
      "  super().__init__(**kwargs)\n"
     ]
    }
   ],
   "source": [
    "\n",
    "# Define a simple Sequential model\n",
    "model = Sequential([\n",
    "    Flatten(input_shape=(28, 28)),           # Flatten 28x28 images into 1D\n",
    "    Dense(128, activation='relu'),          # Fully connected hidden layer with ReLU\n",
    "    Dense(10, activation='softmax')         # Output layer with 10 classes (0-9 digits)\n",
    "])\n",
    "# Model ini adalah model Fully Connected Neural Network (FCNN) atau dikenal juga sebagai feed-forward network."
   ]
  },
  {
   "cell_type": "markdown",
   "id": "412a1095",
   "metadata": {},
   "source": [
    "Konfigurasi di atas **bukan merupakan CNN (Convolutional Neural Network)**. Model tersebut adalah model **Fully Connected Neural Network (FCNN)** atau dikenal juga sebagai feed-forward network. Berikut adalah penjelasan detailnya:\n",
    "\n",
    "---\n",
    "\n",
    "### 1. **Apakah itu konfigurasi CNN?**\n",
    "Tidak, ini bukan CNN. CNN biasanya memiliki layer seperti:\n",
    "- **Convolutional layers**: Untuk menangkap pola lokal seperti tepi, sudut, atau tekstur pada gambar.\n",
    "- **Pooling layers**: Untuk mereduksi dimensi data dan menjaga fitur penting.\n",
    "  \n",
    "Model ini hanya memiliki layer **Dense**, yang semuanya fully connected. CNN biasanya menggunakan kombinasi layer convolution sebelum menghubungkan ke layer fully connected.\n",
    "\n",
    "---\n",
    "\n",
    "### 2. **Total jumlah neuron (bulatan) dengan konfigurasi ini**\n",
    "Untuk menentukan jumlah neuron, kita perlu menghitung berdasarkan konfigurasi layer:\n",
    "\n",
    "- **Input (Flatten)**: Mengubah input 28x28 menjadi 784 neuron.\n",
    "- **Hidden layer (Dense dengan 128 neuron)**: 128 neuron.\n",
    "- **Output layer (Dense dengan 10 neuron)**: 10 neuron.\n",
    "\n",
    "Jadi totalnya ada **784 + 128 + 10 = 922 neuron**.\n",
    "\n",
    "---\n",
    "\n",
    "### 3. **Penjelasan setiap layer**\n",
    "- **Flatten**: \n",
    "  - Meratakan input gambar berukuran 28x28 piksel menjadi vektor 1D berukuran 784. Ini mempersiapkan data untuk dimasukkan ke layer Dense.\n",
    "- **Dense (128, activation='relu')**: \n",
    "  - Layer fully connected dengan 128 neuron. Setiap neuron dihubungkan ke semua input dari layer sebelumnya. Fungsi aktivasi ReLU membuat jaringan bisa menangani non-linearitas.\n",
    "- **Dense (10, activation='softmax')**: \n",
    "  - Layer output dengan 10 neuron (untuk 10 kelas angka 0-9). Softmax digunakan untuk mengubah output menjadi probabilitas.\n",
    "\n",
    "---\n",
    "\n",
    "### 4. **Makna angka 128 pada Dense**\n",
    "Angka **128** adalah jumlah neuron (atau unit) di hidden layer tersebut. Artinya, layer tersebut memiliki **128 node**, masing-masing dengan fungsi aktivasi ReLU.\n",
    "\n",
    "---\n",
    "\n",
    "### 5. **Apa lawan dari fully connected?**\n",
    "Lawan dari fully connected adalah layer yang **tidak sepenuhnya terhubung**. Contohnya:\n",
    "- **Convolutional layer**: Hanya menghubungkan neuron ke sebagian kecil dari input (filter/kernel).\n",
    "- **Sparsely connected networks**: Di mana koneksi antar-neuron hanya terbatas pada bagian tertentu.\n",
    "\n",
    "Layer yang tidak fully connected biasanya lebih efisien untuk data dengan dimensi tinggi (misalnya gambar)."
   ]
  },
  {
   "cell_type": "code",
   "execution_count": 6,
   "id": "e367f479",
   "metadata": {},
   "outputs": [],
   "source": [
    "# Compile the model\n",
    "model.compile(optimizer='adam',\n",
    "              loss='sparse_categorical_crossentropy',\n",
    "              metrics=['accuracy'])\n"
   ]
  },
  {
   "cell_type": "code",
   "execution_count": 8,
   "id": "a3cc336a",
   "metadata": {},
   "outputs": [
    {
     "name": "stdout",
     "output_type": "stream",
     "text": [
      "Epoch 1/5\n",
      "\u001b[1m1688/1688\u001b[0m \u001b[32m━━━━━━━━━━━━━━━━━━━━\u001b[0m\u001b[37m\u001b[0m \u001b[1m5s\u001b[0m 3ms/step - accuracy: 0.9696 - loss: 0.1047 - val_accuracy: 0.9732 - val_loss: 0.0911\n",
      "Epoch 2/5\n",
      "\u001b[1m1688/1688\u001b[0m \u001b[32m━━━━━━━━━━━━━━━━━━━━\u001b[0m\u001b[37m\u001b[0m \u001b[1m8s\u001b[0m 5ms/step - accuracy: 0.9792 - loss: 0.0711 - val_accuracy: 0.9750 - val_loss: 0.0798\n",
      "Epoch 3/5\n",
      "\u001b[1m1688/1688\u001b[0m \u001b[32m━━━━━━━━━━━━━━━━━━━━\u001b[0m\u001b[37m\u001b[0m \u001b[1m5s\u001b[0m 2ms/step - accuracy: 0.9847 - loss: 0.0524 - val_accuracy: 0.9767 - val_loss: 0.0742\n",
      "Epoch 4/5\n",
      "\u001b[1m1688/1688\u001b[0m \u001b[32m━━━━━━━━━━━━━━━━━━━━\u001b[0m\u001b[37m\u001b[0m \u001b[1m3s\u001b[0m 2ms/step - accuracy: 0.9883 - loss: 0.0399 - val_accuracy: 0.9742 - val_loss: 0.0910\n",
      "Epoch 5/5\n",
      "\u001b[1m1688/1688\u001b[0m \u001b[32m━━━━━━━━━━━━━━━━━━━━\u001b[0m\u001b[37m\u001b[0m \u001b[1m4s\u001b[0m 3ms/step - accuracy: 0.9907 - loss: 0.0306 - val_accuracy: 0.9783 - val_loss: 0.0782\n"
     ]
    },
    {
     "data": {
      "text/plain": [
       "<keras.src.callbacks.history.History at 0x1eb81284b90>"
      ]
     },
     "execution_count": 8,
     "metadata": {},
     "output_type": "execute_result"
    }
   ],
   "source": [
    "# Train the model\n",
    "model.fit(x_train, y_train, epochs=5, batch_size=32, validation_split=0.1)\n"
   ]
  },
  {
   "cell_type": "markdown",
   "id": "ef530599",
   "metadata": {},
   "source": [
    "Berikut penjelasan dari pertanyaan Anda:\n",
    "\n",
    "---\n",
    "\n",
    "### **1. Makna 1 X epoch**\n",
    "- Satu **epoch** berarti model telah **melihat seluruh dataset sekali** (semua data pelatihan).\n",
    "- Jika dataset terdiri dari 10.000 sampel dan `batch_size=32`, maka:\n",
    "  - Satu epoch akan terdiri dari **10.000 ÷ 32 = 312.5 (dibulatkan ke 313) batch**.\n",
    "  - Setiap batch adalah **1 iterasi**, sehingga **1 epoch = beberapa iterasi**.\n",
    "\n",
    "---\n",
    "\n",
    "### **2. Apa itu `batch_size`?**\n",
    "- **`batch_size`** adalah jumlah sampel data yang diproses sekaligus dalam satu iterasi sebelum model memperbarui bobotnya.\n",
    "- Misalnya:\n",
    "  - Jika dataset memiliki 10.000 sampel dan `batch_size=32`, maka model akan memproses 32 sampel dalam 1 iterasi dan memperbarui bobot setelahnya.\n",
    "  - Ini dilakukan hingga semua sampel dalam dataset selesai diproses (1 epoch).\n",
    "\n",
    "**Mengapa menggunakan batch?**\n",
    "1. **Efisiensi Komputasi:**\n",
    "   - Memproses seluruh dataset sekaligus bisa sangat lambat atau bahkan tidak mungkin karena keterbatasan memori.\n",
    "   - Batch memungkinkan pemrosesan lebih efisien dengan pembagian dataset menjadi potongan-potongan kecil.\n",
    "   \n",
    "2. **Regularisasi:**\n",
    "   - Menggunakan batch kecil memberikan efek regularisasi karena adanya **variasi data** yang diproses di setiap iterasi.\n",
    "\n",
    "---\n",
    "\n",
    "### **3. Apa yang terjadi dalam 1 iterasi fitting?**\n",
    "- Dalam 1 iterasi (pemrosesan 1 batch), berikut yang terjadi:\n",
    "\n",
    "1. **Forward Pass:**\n",
    "   - Input data melewati jaringan (layer demi layer) untuk menghasilkan **prediksi**.\n",
    "   - Pada CNN misalnya, dilakukan konvolusi, aktivasi, pooling, dan akhirnya klasifikasi.\n",
    "\n",
    "2. **Loss Calculation:**\n",
    "   - Perbedaan antara prediksi dan label aktual dihitung menggunakan fungsi loss (misalnya, cross-entropy untuk klasifikasi).\n",
    "\n",
    "3. **Backward Pass (Backpropagation):**\n",
    "   - Gradien dari fungsi loss terhadap setiap bobot dihitung menggunakan **rantai aturan turunan** (chain rule).\n",
    "   - Gradien ini menunjukkan bagaimana setiap bobot harus diubah untuk menurunkan loss.\n",
    "\n",
    "4. **Weight Update:**\n",
    "   - Dengan menggunakan algoritma optimisasi seperti **Stochastic Gradient Descent (SGD)**, bobot diperbarui:\n",
    "     - \\( w = w - \\eta \\cdot \\nabla L \\)\n",
    "     - \\( w \\): bobot, \\( \\eta \\): learning rate, \\( \\nabla L \\): gradien loss.\n",
    "   \n",
    "Proses ini melibatkan konsep dari **aljabar linear (matriks), kalkulus (turunan), dan optimisasi**.\n",
    "\n",
    "---\n",
    "\n",
    "### **4. Mengapa semakin banyak iterasi, akurasi meningkat, dan loss menurun?**\n",
    "\n",
    "1. **Penyesuaian Bobot:**\n",
    "   - Setiap iterasi, model mempelajari pola dalam data melalui pembaruan bobot.\n",
    "   - Dengan lebih banyak iterasi (lebih banyak epoch), model menjadi lebih baik dalam menyesuaikan bobot sehingga prediksi lebih akurat.\n",
    "\n",
    "2. **Konvergensi Loss:**\n",
    "   - Tujuan pelatihan adalah meminimalkan loss. Dengan optimisasi, loss turun seiring waktu hingga mendekati nilai minimum.\n",
    "\n",
    "3. **Latihan Berulang (Repeated Exposure):**\n",
    "   - Data yang sama dilihat berulang kali selama beberapa epoch, yang memungkinkan model lebih memahami hubungan antar fitur dan target.\n",
    "\n",
    "Namun, jika **terlalu banyak epoch**, model dapat mengalami **overfitting**, di mana akurasi pada data pelatihan tinggi tetapi performa pada data validasi atau data baru menurun.\n",
    "\n",
    "---\n",
    "\n",
    "### **Ringkasan Sederhana**\n",
    "- **Epoch:** Semua data dilihat sekali (terdiri dari beberapa iterasi/batch).\n",
    "- **Batch Size:** Jumlah data yang diproses sekaligus dalam 1 iterasi.\n",
    "- **Iterasi Fitting:** Model memproses batch, menghitung loss, melakukan backpropagation, dan memperbarui bobot.\n",
    "- **Semakin banyak iterasi:** Akurasi meningkat dan loss turun karena model belajar dari data, tapi harus hati-hati terhadap overfitting."
   ]
  },
  {
   "cell_type": "code",
   "execution_count": 9,
   "id": "ec97920f",
   "metadata": {},
   "outputs": [
    {
     "name": "stdout",
     "output_type": "stream",
     "text": [
      "Test Accuracy: 0.97\n"
     ]
    }
   ],
   "source": [
    "# Evaluate the model\n",
    "test_loss, test_accuracy = model.evaluate(x_test, y_test, verbose=0)\n",
    "print(f\"Test Accuracy: {test_accuracy:.2f}\")\n"
   ]
  },
  {
   "cell_type": "code",
   "execution_count": 10,
   "id": "9b601b1e",
   "metadata": {},
   "outputs": [
    {
     "name": "stdout",
     "output_type": "stream",
     "text": [
      "\u001b[1m313/313\u001b[0m \u001b[32m━━━━━━━━━━━━━━━━━━━━\u001b[0m\u001b[37m\u001b[0m \u001b[1m1s\u001b[0m 1ms/step\n"
     ]
    },
    {
     "data": {
      "image/png": "[encoded data removed]",
      "text/plain": [
       "<Figure size 1000x800 with 2 Axes>"
      ]
     },
     "metadata": {},
     "output_type": "display_data"
    }
   ],
   "source": [
    "import numpy as np\n",
    "import matplotlib.pyplot as plt\n",
    "from sklearn.metrics import confusion_matrix, ConfusionMatrixDisplay\n",
    "\n",
    "# Predict on the test set\n",
    "y_pred = model.predict(x_test)\n",
    "y_pred_classes = np.argmax(y_pred, axis=1)  # Convert probabilities to class labels\n",
    "\n",
    "# Compute confusion matrix\n",
    "conf_matrix = confusion_matrix(y_test, y_pred_classes)\n",
    "\n",
    "# Visualize confusion matrix\n",
    "plt.figure(figsize=(10, 8))\n",
    "disp = ConfusionMatrixDisplay(confusion_matrix=conf_matrix, display_labels=range(10))\n",
    "disp.plot(cmap=plt.cm.Blues, values_format=\"d\", ax=plt.gca())\n",
    "plt.title(\"Confusion Matrix\")\n",
    "plt.show()\n"
   ]
  },
  {
   "cell_type": "markdown",
   "id": "dc425e32",
   "metadata": {},
   "source": [
    "Example Output:\n",
    "The confusion matrix will be a 10x10 grid where:\n",
    "\n",
    "- Rows represent the true labels (0-9).\n",
    "- Columns represent the predicted labels (0-9).\n",
    "- The diagonal shows the correctly classified samples.\n",
    "- Off-diagonal values indicate misclassifications."
   ]
  },
  {
   "cell_type": "code",
   "execution_count": null,
   "id": "f568c99b",
   "metadata": {},
   "outputs": [],
   "source": [
    "# Save the trained model in .h5 format\n",
    "model.save('mnist_model.h5')\n",
    "print(\"Model saved as 'mnist_model.h5'\")"
   ]
  }
 ],
 "metadata": {
  "kernelspec": {
   "display_name": "Python 3",
   "language": "python",
   "name": "python3"
  },
  "language_info": {
   "codemirror_mode": {
    "name": "ipython",
    "version": 3
   },
   "file_extension": ".py",
   "mimetype": "text/x-python",
   "name": "python",
   "nbconvert_exporter": "python",
   "pygments_lexer": "ipython3",
   "version": "3.11.7"
  }
 },
 "nbformat": 4,
 "nbformat_minor": 5
}
